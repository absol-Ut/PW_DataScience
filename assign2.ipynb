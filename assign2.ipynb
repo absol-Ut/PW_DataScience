{
 "cells": [
  {
   "cell_type": "markdown",
   "id": "aae0d751-b8f1-4736-a3e2-17eaaf2f2e7e",
   "metadata": {},
   "source": [
    "Q1. How do you comment code in Python? What are the different types of comments?"
   ]
  },
  {
   "cell_type": "code",
   "execution_count": 1,
   "id": "2da0088e-f9bc-4999-a89b-adb7bce1030f",
   "metadata": {},
   "outputs": [
    {
     "ename": "SyntaxError",
     "evalue": "invalid decimal literal (1875819178.py, line 2)",
     "output_type": "error",
     "traceback": [
      "\u001b[0;36m  Cell \u001b[0;32mIn[1], line 2\u001b[0;36m\u001b[0m\n\u001b[0;31m    1st is single line comment in which we use # for commenting\u001b[0m\n\u001b[0m    ^\u001b[0m\n\u001b[0;31mSyntaxError\u001b[0m\u001b[0;31m:\u001b[0m invalid decimal literal\n"
     ]
    }
   ],
   "source": [
    "'''there are two types of comments used in python.\n",
    "1st is single line comment in which we use # for commenting\n",
    "2nd is multiline comment in which we use'''"
   ]
  },
  {
   "cell_type": "markdown",
   "id": "1a02c557-d867-4149-9c61-7ab7242e5019",
   "metadata": {},
   "source": [
    "What are variables in Python? How do you declare and assign values to variables?"
   ]
  },
  {
   "cell_type": "code",
   "execution_count": 2,
   "id": "aa26d87d-dc77-48a8-a1da-7d45f8553bbc",
   "metadata": {},
   "outputs": [
    {
     "ename": "SyntaxError",
     "evalue": "invalid syntax (846274271.py, line 1)",
     "output_type": "error",
     "traceback": [
      "\u001b[0;36m  Cell \u001b[0;32mIn[2], line 1\u001b[0;36m\u001b[0m\n\u001b[0;31m    variable is n nothing but memory in which we store value\u001b[0m\n\u001b[0m                  ^\u001b[0m\n\u001b[0;31mSyntaxError\u001b[0m\u001b[0;31m:\u001b[0m invalid syntax\n"
     ]
    }
   ],
   "source": [
    "variable is n nothing but memory in which we store values\n",
    "for ex :"
   ]
  },
  {
   "cell_type": "code",
   "execution_count": 3,
   "id": "b0696bf8-5e57-4414-80d2-522a2d4a00bd",
   "metadata": {},
   "outputs": [],
   "source": [
    "var1 = 1,2,3 "
   ]
  },
  {
   "cell_type": "code",
   "execution_count": 4,
   "id": "d49d0118-6b74-402d-9d25-9a43349dbdce",
   "metadata": {},
   "outputs": [
    {
     "data": {
      "text/plain": [
       "(1, 2, 3)"
      ]
     },
     "execution_count": 4,
     "metadata": {},
     "output_type": "execute_result"
    }
   ],
   "source": [
    "var1"
   ]
  },
  {
   "cell_type": "markdown",
   "id": "cddf1896-1abd-4947-a28b-0d0fef42b7a1",
   "metadata": {},
   "source": [
    "How do you convert one data type to another in Python?"
   ]
  },
  {
   "cell_type": "markdown",
   "id": "f3ce383b-061b-49b4-84d5-87d232e7f325",
   "metadata": {},
   "source": [
    "How do you write and execute a Python script from the command line?"
   ]
  },
  {
   "cell_type": "code",
   "execution_count": 7,
   "id": "7548b4f7-c52f-4982-ad81-585f606da648",
   "metadata": {},
   "outputs": [
    {
     "ename": "ValueError",
     "evalue": "invalid literal for int() with base 10: 'mumbai'",
     "output_type": "error",
     "traceback": [
      "\u001b[0;31m---------------------------------------------------------------------------\u001b[0m",
      "\u001b[0;31mValueError\u001b[0m                                Traceback (most recent call last)",
      "Cell \u001b[0;32mIn[7], line 1\u001b[0m\n\u001b[0;32m----> 1\u001b[0m \u001b[38;5;28;43mint\u001b[39;49m\u001b[43m(\u001b[49m\u001b[38;5;28;43mstr\u001b[39;49m\u001b[43m)\u001b[49m\n",
      "\u001b[0;31mValueError\u001b[0m: invalid literal for int() with base 10: 'mumbai'"
     ]
    }
   ],
   "source": []
  },
  {
   "cell_type": "markdown",
   "id": "c6b29994-3aff-43a7-b461-9351f77f0f7f",
   "metadata": {},
   "source": [
    "Given a list my_list = [1, 2, 3, 4, 5], write the code to slice the list and obtain the sub-list [2, 3]."
   ]
  },
  {
   "cell_type": "code",
   "execution_count": 9,
   "id": "7fa525ad-1ae1-4c6f-b584-b8da1b0a9bc2",
   "metadata": {},
   "outputs": [],
   "source": [
    "my_list = [1, 2, 3, 4, 5]"
   ]
  },
  {
   "cell_type": "code",
   "execution_count": 10,
   "id": "58c5d810-b36e-47d3-9c88-e4876bfed752",
   "metadata": {},
   "outputs": [
    {
     "data": {
      "text/plain": [
       "[2, 3]"
      ]
     },
     "execution_count": 10,
     "metadata": {},
     "output_type": "execute_result"
    }
   ],
   "source": [
    "my_list[1:3]"
   ]
  },
  {
   "cell_type": "markdown",
   "id": "a5344e8e-2983-48cb-b9c7-99695b6a6960",
   "metadata": {},
   "source": [
    "What is a complex number in mathematics, and how is it represented in Python?"
   ]
  },
  {
   "cell_type": "code",
   "execution_count": 11,
   "id": "1fd9dfbb-428b-4326-b616-5af1093179df",
   "metadata": {},
   "outputs": [
    {
     "ename": "SyntaxError",
     "evalue": "invalid decimal literal (3858281552.py, line 1)",
     "output_type": "error",
     "traceback": [
      "\u001b[0;36m  Cell \u001b[0;32mIn[11], line 1\u001b[0;36m\u001b[0m\n\u001b[0;31m    y = 1+2y\u001b[0m\n\u001b[0m          ^\u001b[0m\n\u001b[0;31mSyntaxError\u001b[0m\u001b[0;31m:\u001b[0m invalid decimal literal\n"
     ]
    }
   ],
   "source": [
    "y = 1+2y\n",
    "here 1 is real part, 2y is imaginary"
   ]
  },
  {
   "cell_type": "markdown",
   "id": "d31a57be-5f5c-4763-89dc-e9599d0b031e",
   "metadata": {},
   "source": [
    "Q7. What is the correct way to declare a variable named age and assign the value 25 to it?"
   ]
  },
  {
   "cell_type": "code",
   "execution_count": 12,
   "id": "7966ca0f-0d34-49e8-b239-54fc9ae28f55",
   "metadata": {},
   "outputs": [],
   "source": [
    "age = 25"
   ]
  },
  {
   "cell_type": "code",
   "execution_count": 13,
   "id": "beb4da1e-79f5-4a1b-8ac5-710bb9ee5a13",
   "metadata": {},
   "outputs": [
    {
     "data": {
      "text/plain": [
       "25"
      ]
     },
     "execution_count": 13,
     "metadata": {},
     "output_type": "execute_result"
    }
   ],
   "source": [
    "age"
   ]
  },
  {
   "cell_type": "markdown",
   "id": "cfb5fc12-d496-430c-8f0b-3eafaeefe806",
   "metadata": {},
   "source": [
    "Q8. Declare a variable named price and assign the value 9.99 to it. What data type does this variable\n",
    "belong to?"
   ]
  },
  {
   "cell_type": "code",
   "execution_count": 14,
   "id": "d31aa262-31da-4c96-8795-fa7123975906",
   "metadata": {},
   "outputs": [],
   "source": [
    "price = 9.99 #float"
   ]
  },
  {
   "cell_type": "code",
   "execution_count": 15,
   "id": "3bee393e-7723-42fe-b9d5-f68466538245",
   "metadata": {},
   "outputs": [
    {
     "data": {
      "text/plain": [
       "9.99"
      ]
     },
     "execution_count": 15,
     "metadata": {},
     "output_type": "execute_result"
    }
   ],
   "source": [
    "price"
   ]
  },
  {
   "cell_type": "code",
   "execution_count": 16,
   "id": "3499f348-7fa2-4635-9814-2e2445d9f356",
   "metadata": {},
   "outputs": [
    {
     "data": {
      "text/plain": [
       "float"
      ]
     },
     "execution_count": 16,
     "metadata": {},
     "output_type": "execute_result"
    }
   ],
   "source": [
    "type(price)"
   ]
  },
  {
   "cell_type": "markdown",
   "id": "21b6ed95-4505-47c9-a2bb-7889482da7c0",
   "metadata": {},
   "source": [
    "Create a variable named name and assign your full name to it as a string. How would you print the\n",
    "value of this variable?"
   ]
  },
  {
   "cell_type": "code",
   "execution_count": 17,
   "id": "354e24e8-2066-4737-9102-4b2df3a5fd65",
   "metadata": {},
   "outputs": [],
   "source": [
    "name = \"utkarsh shrikhande\""
   ]
  },
  {
   "cell_type": "code",
   "execution_count": 18,
   "id": "84c51efc-6e12-464d-8ce0-52a23d6cc58c",
   "metadata": {},
   "outputs": [
    {
     "data": {
      "text/plain": [
       "'utkarsh shrikhande'"
      ]
     },
     "execution_count": 18,
     "metadata": {},
     "output_type": "execute_result"
    }
   ],
   "source": [
    "name"
   ]
  },
  {
   "cell_type": "markdown",
   "id": "e9f0a2f8-6885-4968-ba7c-e03c76b36b1f",
   "metadata": {},
   "source": [
    "Given the string \"Hello, World!\", extract the substring \"World\"."
   ]
  },
  {
   "cell_type": "code",
   "execution_count": 22,
   "id": "c26d07ec-76b2-444f-9b9e-18fefcafd0b2",
   "metadata": {},
   "outputs": [],
   "source": [
    "str = \"Hello, World\""
   ]
  },
  {
   "cell_type": "code",
   "execution_count": 25,
   "id": "6865e94d-2426-4889-8bfb-3d709ebd942d",
   "metadata": {},
   "outputs": [
    {
     "data": {
      "text/plain": [
       "' World'"
      ]
     },
     "execution_count": 25,
     "metadata": {},
     "output_type": "execute_result"
    }
   ],
   "source": [
    "str[6:12]"
   ]
  },
  {
   "cell_type": "markdown",
   "id": "489bc720-3452-4945-b5c2-8e77947e7323",
   "metadata": {},
   "source": [
    "Create a variable named \"is_student\" and assign it a boolean value indicating whether you are\n",
    "currently a student or not."
   ]
  },
  {
   "cell_type": "code",
   "execution_count": 26,
   "id": "f138c9dd-39a7-42ff-83d7-d10ebcccc227",
   "metadata": {},
   "outputs": [],
   "source": [
    "is_student = True\n",
    "is_student2 = False"
   ]
  },
  {
   "cell_type": "code",
   "execution_count": 27,
   "id": "3b487607-f03e-436c-98fe-b1458cb8e17a",
   "metadata": {},
   "outputs": [
    {
     "data": {
      "text/plain": [
       "True"
      ]
     },
     "execution_count": 27,
     "metadata": {},
     "output_type": "execute_result"
    }
   ],
   "source": [
    "is_student"
   ]
  },
  {
   "cell_type": "code",
   "execution_count": 28,
   "id": "aa8c6bbf-322f-4516-9013-fedb1c31abdb",
   "metadata": {},
   "outputs": [
    {
     "data": {
      "text/plain": [
       "False"
      ]
     },
     "execution_count": 28,
     "metadata": {},
     "output_type": "execute_result"
    }
   ],
   "source": [
    "is_student2"
   ]
  },
  {
   "cell_type": "code",
   "execution_count": null,
   "id": "b23b159c-edce-4eb8-a409-4b611ae4c152",
   "metadata": {},
   "outputs": [],
   "source": []
  }
 ],
 "metadata": {
  "kernelspec": {
   "display_name": "Python 3 (ipykernel)",
   "language": "python",
   "name": "python3"
  },
  "language_info": {
   "codemirror_mode": {
    "name": "ipython",
    "version": 3
   },
   "file_extension": ".py",
   "mimetype": "text/x-python",
   "name": "python",
   "nbconvert_exporter": "python",
   "pygments_lexer": "ipython3",
   "version": "3.10.8"
  }
 },
 "nbformat": 4,
 "nbformat_minor": 5
}
